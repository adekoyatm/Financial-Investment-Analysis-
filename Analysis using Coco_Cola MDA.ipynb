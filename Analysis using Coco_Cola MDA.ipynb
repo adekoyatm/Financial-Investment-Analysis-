{
 "cells": [
  {
   "cell_type": "markdown",
   "id": "1900d3a7",
   "metadata": {},
   "source": [
    "## Data and Preproccessing"
   ]
  },
  {
   "cell_type": "markdown",
   "id": "de467a55",
   "metadata": {},
   "source": [
    "Read the data from pdf file"
   ]
  },
  {
   "cell_type": "code",
   "execution_count": 1,
   "id": "30ba6828",
   "metadata": {},
   "outputs": [
    {
     "name": "stdout",
     "output_type": "stream",
     "text": [
      "183\n",
      "UNITED ST ATES\n",
      "SECURITIES AND EXCHANGE COMMISSION\n",
      "WASHINGTON, D.C. 20549\n",
      "FORM 10-K\n",
      "(Mark One)\n",
      "☒ ANNUAL  REPOR T PURSUANT  TO SECTION 13 OR 15(d) OF  THE SECURITIES EXCHANGE ACT  OF 1934\n",
      "For the fiscal year  ended December  31, 2022\n",
      "OR\n",
      "☐ TRANSITION REPOR T PURSUANT  TO SECTION 13 OR 15(d) OF  THE SECURITIES EXCHANGE ACT  OF 1934\n",
      "For the transition period fr om to\n",
      "Commission File Number  001-02217\n",
      "COCA COLA CO\n",
      "(Exact name of Registrant as specified in its charter)\n",
      "Delaware 58-0628465\n",
      "(State or other jurisdiction of incorporation) (I.R.S. Employer Identification No.)\n",
      "One Coca-Cola Plaza\n",
      "Atlanta,Georgia 30313\n",
      "(Address of principal executive offices) (Zip Code)\n",
      "Registrant’s telephone number, including area code: (404) 676-2121\n",
      "Securities registered pursuant to Section 12(b) of the Act:\n",
      "Title of each class Trading Symbol(s) Name of each exchange on which registered\n",
      "Common Stock, $0.25 Par Value KO New York Stock Exchange\n",
      "0.500% Notes Due 2024 KO24 New York Stock Exchange\n",
      "1.875% Notes Due 2026 KO26 New York Stock Exchange\n",
      "0.750% Notes Due 2026 KO26C New York Stock Exchange\n",
      "1.125% Notes Due 2027 KO27 New York Stock Exchange\n",
      "0.125% Notes Due 2029 KO29A New York Stock Exchange\n",
      "0.125% Notes Due 2029 KO29B New York Stock Exchange\n",
      "0.400% Notes Due 2030 KO30B New York Stock Exchange\n",
      "1.250% Notes Due 2031 KO31 New York Stock Exchange\n",
      "0.375% Notes Due 2033 KO33 New York Stock Exchange\n",
      "0.500% Notes Due 2033 KO33A New York Stock Exchange\n",
      "1.625% Notes Due 2035 KO35 New York Stock Exchange\n",
      "1.100% Notes Due 2036 KO36 New York Stock Exchange\n",
      "0.950% Notes Due 2036 KO36A New York Stock Exchange\n",
      "0.800% Notes Due 2040 KO40B New York Stock Exchange\n",
      "1.000% Notes Due 2041 KO41 New York Stock Exchange\n",
      "Securities registered pursuant to Section 12(g) of the Act: None\n",
      "__________________________________________________\n"
     ]
    }
   ],
   "source": [
    "#Read the pdf with PyPDF2\n",
    "\n",
    "#!pip install PyPDF2\n",
    "import PyPDF2\n",
    "\n",
    "with open('cocacola_10k.pdf', 'rb') as file:\n",
    "    reader = PyPDF2.PdfReader(file)\n",
    "    num_pages = len(reader.pages)\n",
    "    print(num_pages)\n",
    "    page = reader.pages[0]\n",
    "    text = page.extract_text()\n",
    "    print(text)"
   ]
  },
  {
   "cell_type": "markdown",
   "id": "1da2542c",
   "metadata": {},
   "source": [
    "Extract the Management’s Discussion and Analysis of Financial Condition and Results of Operations session from the PDF file"
   ]
  },
  {
   "cell_type": "code",
   "execution_count": 2,
   "id": "5da5bd30",
   "metadata": {},
   "outputs": [],
   "source": [
    "#Extract MDA Section\n",
    "\n",
    "import re\n",
    "\n",
    "mda_start = re.compile(r\"Management’s Discussion and Analysis of Financial Condition and Results of Operations\")\n",
    "mda_end = re.compile(r\"Quantitative and Qualitative Disclosures About Market Risk\")\n",
    "\n",
    "mda_section = \"\"\n",
    "for line in text.split('\\n'):\n",
    "    if mda_start.search(line):\n",
    "        mda_section += line + '\\n'\n",
    "    elif mda_end.search(line):\n",
    "        break\n",
    "    else:\n",
    "        mda_section += line + '\\n'"
   ]
  },
  {
   "cell_type": "code",
   "execution_count": 3,
   "id": "b7a3cf55",
   "metadata": {},
   "outputs": [
    {
     "name": "stdout",
     "output_type": "stream",
     "text": [
      "UNITED ST ATES\n",
      "SECURITIES AND EXCHANGE COMMISSION\n",
      "WASHINGTON, D.C. 20549\n",
      "FORM 10-K\n",
      "(Mark One)\n",
      "☒ ANNUAL  REPOR T PURSUANT  TO SECTION 13 OR 15(d) OF  THE SECURITIES EXCHANGE ACT  OF 1934\n",
      "For the fiscal year  ended December  31, 2022\n",
      "OR\n",
      "☐ TRANSITION REPOR T PURSUANT  TO SECTION 13 OR 15(d) OF  THE SECURITIES EXCHANGE ACT  OF 1934\n",
      "For the transition period fr om to\n",
      "Commission File Number  001-02217\n",
      "COCA COLA CO\n",
      "(Exact name of Registrant as specified in its charter)\n",
      "Delaware 58-0628465\n",
      "(State or other jurisdiction of incorporation) (I.R.S. Employer Identification No.)\n",
      "One Coca-Cola Plaza\n",
      "Atlanta,Georgia 30313\n",
      "(Address of principal executive offices) (Zip Code)\n",
      "Registrant’s telephone number, including area code: (404) 676-2121\n",
      "Securities registered pursuant to Section 12(b) of the Act:\n",
      "Title of each class Trading Symbol(s) Name of each exchange on which registered\n",
      "Common Stock, $0.25 Par Value KO New York Stock Exchange\n",
      "0.500% Notes Due 2024 KO24 New York Stock Exchange\n",
      "1.875% Notes Due 2026 KO26 New York Stock Exchange\n",
      "0.750% Notes Due 2026 KO26C New York Stock Exchange\n",
      "1.125% Notes Due 2027 KO27 New York Stock Exchange\n",
      "0.125% Notes Due 2029 KO29A New York Stock Exchange\n",
      "0.125% Notes Due 2029 KO29B New York Stock Exchange\n",
      "0.400% Notes Due 2030 KO30B New York Stock Exchange\n",
      "1.250% Notes Due 2031 KO31 New York Stock Exchange\n",
      "0.375% Notes Due 2033 KO33 New York Stock Exchange\n",
      "0.500% Notes Due 2033 KO33A New York Stock Exchange\n",
      "1.625% Notes Due 2035 KO35 New York Stock Exchange\n",
      "1.100% Notes Due 2036 KO36 New York Stock Exchange\n",
      "0.950% Notes Due 2036 KO36A New York Stock Exchange\n",
      "0.800% Notes Due 2040 KO40B New York Stock Exchange\n",
      "1.000% Notes Due 2041 KO41 New York Stock Exchange\n",
      "Securities registered pursuant to Section 12(g) of the Act: None\n",
      "__________________________________________________\n",
      "\n"
     ]
    }
   ],
   "source": [
    "print(mda_section)"
   ]
  },
  {
   "cell_type": "markdown",
   "id": "4b8e81fe",
   "metadata": {},
   "source": [
    "Preprocess the extracted text by lowerring the case, removing punctuations, stop words and carring out stemming and lemmatization to normalize the text"
   ]
  },
  {
   "cell_type": "code",
   "execution_count": 3,
   "id": "060455bf",
   "metadata": {},
   "outputs": [],
   "source": [
    "#preprocess text \n",
    "#convert to lowercase, reove punctuation, remove stopwords\n",
    "#stemming and lemmatization\n",
    "\n",
    "from nltk.stem import PorterStemmer\n",
    "from nltk.tokenize import word_tokenize\n",
    "from nltk.corpus import stopwords\n",
    "import string\n",
    "\n",
    "#lowercase\n",
    "mda_section = mda_section.lower() \n",
    "\n",
    "# remove punctuation\n",
    "mda_section = mda_section.translate(str.maketrans(\"\", \"\", string.punctuation)) \n",
    "\n",
    "#tokenize and remove stopwords\n",
    "stop_words = set (stopwords.words('english'))\n",
    "tokens = word_tokenize(mda_section)\n",
    "filtered_tokens = [token for token  in tokens if token not in stop_words]\n",
    "\n",
    "#stemming and lemmatization\n",
    "ps = PorterStemmer()\n",
    "lemmatized_tokens = [ps.stem(token) for token in filtered_tokens]\n"
   ]
  },
  {
   "cell_type": "code",
   "execution_count": 4,
   "id": "de2525b3",
   "metadata": {
    "scrolled": false
   },
   "outputs": [
    {
     "data": {
      "text/plain": [
       "['unit',\n",
       " 'st',\n",
       " 'ate',\n",
       " 'secur',\n",
       " 'exchang',\n",
       " 'commiss',\n",
       " 'washington',\n",
       " 'dc',\n",
       " '20549',\n",
       " 'form',\n",
       " '10k',\n",
       " 'mark',\n",
       " 'one',\n",
       " '☒',\n",
       " 'annual',\n",
       " 'repor',\n",
       " 'pursuant',\n",
       " 'section',\n",
       " '13',\n",
       " '15d',\n",
       " 'secur',\n",
       " 'exchang',\n",
       " 'act',\n",
       " '1934',\n",
       " 'fiscal',\n",
       " 'year',\n",
       " 'end',\n",
       " 'decemb',\n",
       " '31',\n",
       " '2022',\n",
       " '☐',\n",
       " 'transit',\n",
       " 'repor',\n",
       " 'pursuant',\n",
       " 'section',\n",
       " '13',\n",
       " '15d',\n",
       " 'secur',\n",
       " 'exchang',\n",
       " 'act',\n",
       " '1934',\n",
       " 'transit',\n",
       " 'period',\n",
       " 'fr',\n",
       " 'om',\n",
       " 'commiss',\n",
       " 'file',\n",
       " 'number',\n",
       " '00102217',\n",
       " 'coca',\n",
       " 'cola',\n",
       " 'co',\n",
       " 'exact',\n",
       " 'name',\n",
       " 'registr',\n",
       " 'specifi',\n",
       " 'charter',\n",
       " 'delawar',\n",
       " '580628465',\n",
       " 'state',\n",
       " 'jurisdict',\n",
       " 'incorpor',\n",
       " 'ir',\n",
       " 'employ',\n",
       " 'identif',\n",
       " 'one',\n",
       " 'cocacola',\n",
       " 'plaza',\n",
       " 'atlantageorgia',\n",
       " '30313',\n",
       " 'address',\n",
       " 'princip',\n",
       " 'execut',\n",
       " 'offic',\n",
       " 'zip',\n",
       " 'code',\n",
       " 'registr',\n",
       " '’',\n",
       " 'telephon',\n",
       " 'number',\n",
       " 'includ',\n",
       " 'area',\n",
       " 'code',\n",
       " '404',\n",
       " '6762121',\n",
       " 'secur',\n",
       " 'regist',\n",
       " 'pursuant',\n",
       " 'section',\n",
       " '12b',\n",
       " 'act',\n",
       " 'titl',\n",
       " 'class',\n",
       " 'trade',\n",
       " 'symbol',\n",
       " 'name',\n",
       " 'exchang',\n",
       " 'regist',\n",
       " 'common',\n",
       " 'stock',\n",
       " '025',\n",
       " 'par',\n",
       " 'valu',\n",
       " 'ko',\n",
       " 'new',\n",
       " 'york',\n",
       " 'stock',\n",
       " 'exchang',\n",
       " '0500',\n",
       " 'note',\n",
       " 'due',\n",
       " '2024',\n",
       " 'ko24',\n",
       " 'new',\n",
       " 'york',\n",
       " 'stock',\n",
       " 'exchang',\n",
       " '1875',\n",
       " 'note',\n",
       " 'due',\n",
       " '2026',\n",
       " 'ko26',\n",
       " 'new',\n",
       " 'york',\n",
       " 'stock',\n",
       " 'exchang',\n",
       " '0750',\n",
       " 'note',\n",
       " 'due',\n",
       " '2026',\n",
       " 'ko26c',\n",
       " 'new',\n",
       " 'york',\n",
       " 'stock',\n",
       " 'exchang',\n",
       " '1125',\n",
       " 'note',\n",
       " 'due',\n",
       " '2027',\n",
       " 'ko27',\n",
       " 'new',\n",
       " 'york',\n",
       " 'stock',\n",
       " 'exchang',\n",
       " '0125',\n",
       " 'note',\n",
       " 'due',\n",
       " '2029',\n",
       " 'ko29a',\n",
       " 'new',\n",
       " 'york',\n",
       " 'stock',\n",
       " 'exchang',\n",
       " '0125',\n",
       " 'note',\n",
       " 'due',\n",
       " '2029',\n",
       " 'ko29b',\n",
       " 'new',\n",
       " 'york',\n",
       " 'stock',\n",
       " 'exchang',\n",
       " '0400',\n",
       " 'note',\n",
       " 'due',\n",
       " '2030',\n",
       " 'ko30b',\n",
       " 'new',\n",
       " 'york',\n",
       " 'stock',\n",
       " 'exchang',\n",
       " '1250',\n",
       " 'note',\n",
       " 'due',\n",
       " '2031',\n",
       " 'ko31',\n",
       " 'new',\n",
       " 'york',\n",
       " 'stock',\n",
       " 'exchang',\n",
       " '0375',\n",
       " 'note',\n",
       " 'due',\n",
       " '2033',\n",
       " 'ko33',\n",
       " 'new',\n",
       " 'york',\n",
       " 'stock',\n",
       " 'exchang',\n",
       " '0500',\n",
       " 'note',\n",
       " 'due',\n",
       " '2033',\n",
       " 'ko33a',\n",
       " 'new',\n",
       " 'york',\n",
       " 'stock',\n",
       " 'exchang',\n",
       " '1625',\n",
       " 'note',\n",
       " 'due',\n",
       " '2035',\n",
       " 'ko35',\n",
       " 'new',\n",
       " 'york',\n",
       " 'stock',\n",
       " 'exchang',\n",
       " '1100',\n",
       " 'note',\n",
       " 'due',\n",
       " '2036',\n",
       " 'ko36',\n",
       " 'new',\n",
       " 'york',\n",
       " 'stock',\n",
       " 'exchang',\n",
       " '0950',\n",
       " 'note',\n",
       " 'due',\n",
       " '2036',\n",
       " 'ko36a',\n",
       " 'new',\n",
       " 'york',\n",
       " 'stock',\n",
       " 'exchang',\n",
       " '0800',\n",
       " 'note',\n",
       " 'due',\n",
       " '2040',\n",
       " 'ko40b',\n",
       " 'new',\n",
       " 'york',\n",
       " 'stock',\n",
       " 'exchang',\n",
       " '1000',\n",
       " 'note',\n",
       " 'due',\n",
       " '2041',\n",
       " 'ko41',\n",
       " 'new',\n",
       " 'york',\n",
       " 'stock',\n",
       " 'exchang',\n",
       " 'secur',\n",
       " 'regist',\n",
       " 'pursuant',\n",
       " 'section',\n",
       " '12g',\n",
       " 'act',\n",
       " 'none']"
      ]
     },
     "execution_count": 4,
     "metadata": {},
     "output_type": "execute_result"
    }
   ],
   "source": [
    "#view the lemmatized tokens\n",
    "lemmatized_tokens"
   ]
  },
  {
   "cell_type": "markdown",
   "id": "5b6fe17a",
   "metadata": {},
   "source": [
    "## Sentiment Analysis"
   ]
  },
  {
   "cell_type": "code",
   "execution_count": 5,
   "id": "f6c42e5a",
   "metadata": {},
   "outputs": [
    {
     "name": "stdout",
     "output_type": "stream",
     "text": [
      "Sentiment:  0.0\n"
     ]
    }
   ],
   "source": [
    "#Sentiment Analysis\n",
    "\n",
    "#using textblob\n",
    "#!pip install textblob\n",
    "from textblob import TextBlob\n",
    "\n",
    "\n",
    "text = ''.join(lemmatized_tokens)\n",
    "mda_bolb = TextBlob(text)\n",
    "sentiment = mda_bolb.sentiment.polarity\n",
    "print(\"Sentiment: \", sentiment)"
   ]
  },
  {
   "cell_type": "code",
   "execution_count": 6,
   "id": "58d7acb5",
   "metadata": {},
   "outputs": [
    {
     "name": "stdout",
     "output_type": "stream",
     "text": [
      "Sentiment:  0.0\n"
     ]
    }
   ],
   "source": [
    "#using nlkt for the sentiment analysis\n",
    "\n",
    "from nltk.sentiment.vader import SentimentIntensityAnalyzer\n",
    "\n",
    "sia=SentimentIntensityAnalyzer()\n",
    "\n",
    "text = ''.join(lemmatized_tokens)\n",
    "sentiment = sia.polarity_scores(text)\n",
    "print(\"Sentiment: \", sentiment['compound'])\n"
   ]
  },
  {
   "cell_type": "markdown",
   "id": "b95ba64c",
   "metadata": {},
   "source": [
    "The sentiment analysis is 0 which means the text is neutral"
   ]
  },
  {
   "cell_type": "markdown",
   "id": "bd94b8db",
   "metadata": {},
   "source": [
    "## Historical Stock Price Analysis\n",
    "\n"
   ]
  },
  {
   "cell_type": "code",
   "execution_count": 7,
   "id": "31d86422",
   "metadata": {},
   "outputs": [
    {
     "name": "stdout",
     "output_type": "stream",
     "text": [
      "[*********************100%%**********************]  1 of 1 completed\n",
      "Date\n",
      "2019-01-02    46.930000\n",
      "2019-01-03    46.639999\n",
      "2019-01-04    47.570000\n",
      "2019-01-07    46.950001\n",
      "2019-01-08    47.480000\n",
      "                ...    \n",
      "2023-12-22    58.320000\n",
      "2023-12-26    58.560001\n",
      "2023-12-27    58.709999\n",
      "2023-12-28    58.750000\n",
      "2023-12-29    58.930000\n",
      "Name: Close, Length: 1258, dtype: float64\n"
     ]
    }
   ],
   "source": [
    "# getting historical data of stock price from yfinance\n",
    "\n",
    "#!pip install yfinance\n",
    "import yfinance as yf\n",
    "\n",
    "data = yf.download(tickers=\"KO\", start=\"2019-01-01\", end=\"2023-12-31\")\n",
    "\n",
    "#print closing price of data\n",
    "print(data['Close'])"
   ]
  },
  {
   "cell_type": "code",
   "execution_count": 8,
   "id": "5487494d",
   "metadata": {},
   "outputs": [
    {
     "name": "stdout",
     "output_type": "stream",
     "text": [
      "Date\n",
      "2019-01-02          NaN\n",
      "2019-01-03          NaN\n",
      "2019-01-04          NaN\n",
      "2019-01-07          NaN\n",
      "2019-01-08          NaN\n",
      "                ...    \n",
      "2023-12-22    58.487143\n",
      "2023-12-26    58.418572\n",
      "2023-12-27    58.434286\n",
      "2023-12-28    58.395715\n",
      "2023-12-29    58.410000\n",
      "Name: 7-Day MA, Length: 1258, dtype: float64\n"
     ]
    }
   ],
   "source": [
    "#calculating moving average price of closing price of stock to see trend of stock\n",
    "\n",
    "data['7-Day MA'] = data['Close'].rolling(window=7).mean()\n",
    "print(data['7-Day MA'])"
   ]
  },
  {
   "cell_type": "code",
   "execution_count": 9,
   "id": "e8bb1925",
   "metadata": {},
   "outputs": [
    {
     "data": {
      "image/png": "[encoded data removed]",
      "text/plain": [
       "<Figure size 1200x600 with 1 Axes>"
      ]
     },
     "metadata": {},
     "output_type": "display_data"
    }
   ],
   "source": [
    "#Plot the closing prices and moving average prices of stock to visualize trend of stock\n",
    "\n",
    "import matplotlib.pyplot as plt\n",
    "\n",
    "plt.figure(figsize=(12,6))\n",
    "plt.plot(data['Close'], label = \"Closing Price\")\n",
    "plt.plot(data['7-Day MA'], label= \"7-Day Moving Average\")\n",
    "plt.title(\"Coca-Cola Stock Price and 7-Day Moving Averag\")\n",
    "plt.xlabel(\"Date\")\n",
    "plt.ylabel(\"Price ($)\")\n",
    "plt.legend()\n",
    "plt.show()\n"
   ]
  },
  {
   "cell_type": "markdown",
   "id": "380a0979",
   "metadata": {},
   "source": [
    "Generally, the stock has an upward trend"
   ]
  },
  {
   "cell_type": "markdown",
   "id": "3ee0628b",
   "metadata": {},
   "source": [
    "## Feature Extraction "
   ]
  },
  {
   "cell_type": "code",
   "execution_count": 10,
   "id": "12c815a3",
   "metadata": {
    "scrolled": true
   },
   "outputs": [
    {
     "name": "stdout",
     "output_type": "stream",
     "text": [
      "(1, 4)\n"
     ]
    }
   ],
   "source": [
    "#Using TermFrequecy-Inverse Document Frequency (TF-IDF) to get features by converting the text into numerical features\n",
    "\n",
    "\n",
    "from sklearn.feature_extraction.text import TfidfVectorizer\n",
    "\n",
    "\n",
    "#Initiling the vectorizer\n",
    "vectorizer = TfidfVectorizer()\n",
    "\n",
    "#fit vectorizer and transform the data\n",
    "X = vectorizer.fit_transform([''.join(lemmatized_tokens)])\n",
    "\n",
    "#print shape to see dimentioned of transformed data\n",
    "print(X.shape)\n",
    "\n",
    "\n"
   ]
  },
  {
   "cell_type": "markdown",
   "id": "1f86ea63",
   "metadata": {},
   "source": [
    "## Machine Learning "
   ]
  },
  {
   "cell_type": "code",
   "execution_count": 11,
   "id": "318e0699",
   "metadata": {},
   "outputs": [],
   "source": [
    "# using the exracted features as X and sentiment as y\n",
    "#the document is duplicated to create a binary classification problem\n",
    "\n",
    "import numpy as np\n",
    "\n",
    "X = vectorizer.fit_transform([' '.join(lemmatized_tokens), ' '.join(lemmatized_tokens)])\n",
    "\n",
    "# convert the sparse matric to a dense array\n",
    "X = X.toarray()\n",
    "\n",
    "#recall sentiment\n",
    "sentiment = mda_bolb.sentiment.polarity\n",
    "\n",
    "y = np.array([sentiment, -sentiment]) #first document is positive and second document is negative\n",
    "\n",
    "#split into training and test sets\n",
    "from sklearn.model_selection import train_test_split\n",
    "X_train, X_test, y_train, y_test = train_test_split(X,y, test_size=0.5, random_state=42)\n"
   ]
  },
  {
   "cell_type": "code",
   "execution_count": 12,
   "id": "311753db",
   "metadata": {
    "scrolled": false
   },
   "outputs": [
    {
     "name": "stdout",
     "output_type": "stream",
     "text": [
      "Naives Bayes Accuracy:  1.0\n"
     ]
    },
    {
     "name": "stderr",
     "output_type": "stream",
     "text": [
      "C:\\Users\\USER\\anaconda3\\lib\\site-packages\\sklearn\\naive_bayes.py:489: RuntimeWarning: divide by zero encountered in log\n",
      "  n_ij = -0.5 * np.sum(np.log(2.0 * np.pi * self.var_[i, :]))\n",
      "C:\\Users\\USER\\anaconda3\\lib\\site-packages\\sklearn\\naive_bayes.py:490: RuntimeWarning: invalid value encountered in true_divide\n",
      "  n_ij -= 0.5 * np.sum(((X - self.theta_[i, :]) ** 2) / (self.var_[i, :]), 1)\n"
     ]
    }
   ],
   "source": [
    "# for Naive Bayes\n",
    "\n",
    "from sklearn.naive_bayes import GaussianNB\n",
    "from sklearn.metrics import accuracy_score\n",
    "\n",
    "gnb_model = GaussianNB()\n",
    "gnb_model.fit(X_train, y_train)\n",
    "\n",
    "y_pred = gnb_model.predict(X_test)\n",
    "accuracy = accuracy_score(y_test, y_pred)\n",
    "print(\"Naives Bayes Accuracy: \", accuracy)"
   ]
  },
  {
   "cell_type": "code",
   "execution_count": 13,
   "id": "68603ec1",
   "metadata": {},
   "outputs": [
    {
     "ename": "ValueError",
     "evalue": "The number of classes has to be greater than one; got 1 class",
     "output_type": "error",
     "traceback": [
      "\u001b[1;31m---------------------------------------------------------------------------\u001b[0m",
      "\u001b[1;31mValueError\u001b[0m                                Traceback (most recent call last)",
      "\u001b[1;32m~\\AppData\\Local\\Temp\\ipykernel_5616\\1107178248.py\u001b[0m in \u001b[0;36m<module>\u001b[1;34m\u001b[0m\n\u001b[0;32m      4\u001b[0m \u001b[1;33m\u001b[0m\u001b[0m\n\u001b[0;32m      5\u001b[0m \u001b[0msvc_model\u001b[0m \u001b[1;33m=\u001b[0m \u001b[0mSVC\u001b[0m\u001b[1;33m(\u001b[0m\u001b[0mkernel\u001b[0m\u001b[1;33m=\u001b[0m\u001b[1;34m\"Linear\"\u001b[0m\u001b[1;33m,\u001b[0m \u001b[0mrandom_state\u001b[0m\u001b[1;33m=\u001b[0m\u001b[1;36m0\u001b[0m\u001b[1;33m)\u001b[0m\u001b[1;33m\u001b[0m\u001b[1;33m\u001b[0m\u001b[0m\n\u001b[1;32m----> 6\u001b[1;33m \u001b[0msvc_model\u001b[0m\u001b[1;33m.\u001b[0m\u001b[0mfit\u001b[0m\u001b[1;33m(\u001b[0m\u001b[0mX_train\u001b[0m\u001b[1;33m,\u001b[0m \u001b[0my_train\u001b[0m\u001b[1;33m)\u001b[0m\u001b[1;33m\u001b[0m\u001b[1;33m\u001b[0m\u001b[0m\n\u001b[0m\u001b[0;32m      7\u001b[0m \u001b[1;33m\u001b[0m\u001b[0m\n\u001b[0;32m      8\u001b[0m \u001b[0my_pred\u001b[0m \u001b[1;33m=\u001b[0m \u001b[0msvc_model\u001b[0m\u001b[1;33m.\u001b[0m\u001b[0mpredict\u001b[0m\u001b[1;33m(\u001b[0m\u001b[0mX_test\u001b[0m\u001b[1;33m)\u001b[0m\u001b[1;33m\u001b[0m\u001b[1;33m\u001b[0m\u001b[0m\n",
      "\u001b[1;32m~\\anaconda3\\lib\\site-packages\\sklearn\\svm\\_base.py\u001b[0m in \u001b[0;36mfit\u001b[1;34m(self, X, y, sample_weight)\u001b[0m\n\u001b[0;32m    197\u001b[0m             )\n\u001b[0;32m    198\u001b[0m \u001b[1;33m\u001b[0m\u001b[0m\n\u001b[1;32m--> 199\u001b[1;33m         \u001b[0my\u001b[0m \u001b[1;33m=\u001b[0m \u001b[0mself\u001b[0m\u001b[1;33m.\u001b[0m\u001b[0m_validate_targets\u001b[0m\u001b[1;33m(\u001b[0m\u001b[0my\u001b[0m\u001b[1;33m)\u001b[0m\u001b[1;33m\u001b[0m\u001b[1;33m\u001b[0m\u001b[0m\n\u001b[0m\u001b[0;32m    200\u001b[0m \u001b[1;33m\u001b[0m\u001b[0m\n\u001b[0;32m    201\u001b[0m         sample_weight = np.asarray(\n",
      "\u001b[1;32m~\\anaconda3\\lib\\site-packages\\sklearn\\svm\\_base.py\u001b[0m in \u001b[0;36m_validate_targets\u001b[1;34m(self, y)\u001b[0m\n\u001b[0;32m    718\u001b[0m         \u001b[0mself\u001b[0m\u001b[1;33m.\u001b[0m\u001b[0mclass_weight_\u001b[0m \u001b[1;33m=\u001b[0m \u001b[0mcompute_class_weight\u001b[0m\u001b[1;33m(\u001b[0m\u001b[0mself\u001b[0m\u001b[1;33m.\u001b[0m\u001b[0mclass_weight\u001b[0m\u001b[1;33m,\u001b[0m \u001b[0mclasses\u001b[0m\u001b[1;33m=\u001b[0m\u001b[0mcls\u001b[0m\u001b[1;33m,\u001b[0m \u001b[0my\u001b[0m\u001b[1;33m=\u001b[0m\u001b[0my_\u001b[0m\u001b[1;33m)\u001b[0m\u001b[1;33m\u001b[0m\u001b[1;33m\u001b[0m\u001b[0m\n\u001b[0;32m    719\u001b[0m         \u001b[1;32mif\u001b[0m \u001b[0mlen\u001b[0m\u001b[1;33m(\u001b[0m\u001b[0mcls\u001b[0m\u001b[1;33m)\u001b[0m \u001b[1;33m<\u001b[0m \u001b[1;36m2\u001b[0m\u001b[1;33m:\u001b[0m\u001b[1;33m\u001b[0m\u001b[1;33m\u001b[0m\u001b[0m\n\u001b[1;32m--> 720\u001b[1;33m             raise ValueError(\n\u001b[0m\u001b[0;32m    721\u001b[0m                 \u001b[1;34m\"The number of classes has to be greater than one; got %d class\"\u001b[0m\u001b[1;33m\u001b[0m\u001b[1;33m\u001b[0m\u001b[0m\n\u001b[0;32m    722\u001b[0m                 \u001b[1;33m%\u001b[0m \u001b[0mlen\u001b[0m\u001b[1;33m(\u001b[0m\u001b[0mcls\u001b[0m\u001b[1;33m)\u001b[0m\u001b[1;33m\u001b[0m\u001b[1;33m\u001b[0m\u001b[0m\n",
      "\u001b[1;31mValueError\u001b[0m: The number of classes has to be greater than one; got 1 class"
     ]
    }
   ],
   "source": [
    "# for Support Vector Machine\n",
    "\n",
    "from sklearn.svm import SVC\n",
    "\n",
    "svc_model = SVC(kernel=\"Linear\", random_state=0)\n",
    "svc_model.fit(X_train, y_train)\n",
    "\n",
    "y_pred = svc_model.predict(X_test)\n",
    "accuracy = accuracy_score(y_test, y_pred)\n",
    "print(\"SVM Accuracy: \", accuracy)"
   ]
  },
  {
   "cell_type": "code",
   "execution_count": 14,
   "id": "37c7dd24",
   "metadata": {},
   "outputs": [
    {
     "name": "stdout",
     "output_type": "stream",
     "text": [
      "[0.02297182 0.04594364 0.06891546 0.09188728 0.1148591  0.34457729\n",
      " 0.36754911 0.39052093 0.45943639]\n"
     ]
    }
   ],
   "source": [
    "print(np.unique(X_train))"
   ]
  },
  {
   "cell_type": "code",
   "execution_count": 15,
   "id": "b59275b8",
   "metadata": {},
   "outputs": [
    {
     "name": "stdout",
     "output_type": "stream",
     "text": [
      "[0.]\n"
     ]
    }
   ],
   "source": [
    "print(y_train)"
   ]
  },
  {
   "cell_type": "markdown",
   "id": "90e0069b",
   "metadata": {},
   "source": [
    "Since the y_class only has one unique value which is 0 due to the sentiment being neutral, the SVM would not work as it requires more than one class"
   ]
  },
  {
   "cell_type": "code",
   "execution_count": 16,
   "id": "755b2da0",
   "metadata": {},
   "outputs": [
    {
     "name": "stdout",
     "output_type": "stream",
     "text": [
      "Decision Tree Accuracy:  1.0\n"
     ]
    }
   ],
   "source": [
    "# for Decision Tree\n",
    "\n",
    "from sklearn.tree import DecisionTreeClassifier\n",
    "\n",
    "dt_model = DecisionTreeClassifier(random_state=0)\n",
    "dt_model.fit(X_train, y_train)\n",
    "\n",
    "y_predict = dt_model.predict(X_test)\n",
    "accuracy = accuracy_score(y_test, y_pred)\n",
    "print(\"Decision Tree Accuracy: \", accuracy)"
   ]
  },
  {
   "cell_type": "markdown",
   "id": "41657af9",
   "metadata": {},
   "source": [
    "Both Decision Tree and Naive Bayes gives an accuracy of 1"
   ]
  },
  {
   "cell_type": "markdown",
   "id": "db416ea0",
   "metadata": {},
   "source": [
    "## Performance of diversified Stocks"
   ]
  },
  {
   "cell_type": "markdown",
   "id": "07a4befa",
   "metadata": {},
   "source": [
    "The Performance metrics : Mean Absolute Percentage Error (MAPE) and Mean Absolute Error (MAE) are used to evaluate performance of diversified stocks.\n",
    "\n"
   ]
  },
  {
   "cell_type": "code",
   "execution_count": 17,
   "id": "595affe3",
   "metadata": {
    "scrolled": true
   },
   "outputs": [
    {
     "ename": "ValueError",
     "evalue": "Input contains NaN, infinity or a value too large for dtype('float64').",
     "output_type": "error",
     "traceback": [
      "\u001b[1;31m---------------------------------------------------------------------------\u001b[0m",
      "\u001b[1;31mValueError\u001b[0m                                Traceback (most recent call last)",
      "\u001b[1;32m~\\AppData\\Local\\Temp\\ipykernel_5616\\2844578222.py\u001b[0m in \u001b[0;36m<module>\u001b[1;34m\u001b[0m\n\u001b[0;32m     16\u001b[0m \u001b[1;32mfrom\u001b[0m \u001b[0msklearn\u001b[0m\u001b[1;33m.\u001b[0m\u001b[0mmetrics\u001b[0m \u001b[1;32mimport\u001b[0m \u001b[0mmean_absolute_error\u001b[0m\u001b[1;33m\u001b[0m\u001b[1;33m\u001b[0m\u001b[0m\n\u001b[0;32m     17\u001b[0m \u001b[1;33m\u001b[0m\u001b[0m\n\u001b[1;32m---> 18\u001b[1;33m \u001b[0mmae\u001b[0m \u001b[1;33m=\u001b[0m \u001b[0mmean_absolute_error\u001b[0m\u001b[1;33m(\u001b[0m\u001b[0mdata\u001b[0m\u001b[1;33m[\u001b[0m\u001b[1;34m\"Close\"\u001b[0m\u001b[1;33m]\u001b[0m\u001b[1;33m,\u001b[0m \u001b[0mdata\u001b[0m\u001b[1;33m[\u001b[0m\u001b[1;34m'7-Day MA'\u001b[0m\u001b[1;33m]\u001b[0m\u001b[1;33m)\u001b[0m\u001b[1;33m\u001b[0m\u001b[1;33m\u001b[0m\u001b[0m\n\u001b[0m\u001b[0;32m     19\u001b[0m \u001b[1;33m\u001b[0m\u001b[0m\n\u001b[0;32m     20\u001b[0m \u001b[0mprint\u001b[0m\u001b[1;33m(\u001b[0m\u001b[1;34m\"Mean Absolute Percentage Error (MAPE): \"\u001b[0m\u001b[1;33m,\u001b[0m \u001b[0msum\u001b[0m\u001b[1;33m(\u001b[0m\u001b[0mmapes\u001b[0m\u001b[1;33m)\u001b[0m\u001b[1;33m/\u001b[0m\u001b[0mlen\u001b[0m\u001b[1;33m(\u001b[0m\u001b[0mmapes\u001b[0m\u001b[1;33m)\u001b[0m\u001b[1;33m)\u001b[0m\u001b[1;33m\u001b[0m\u001b[1;33m\u001b[0m\u001b[0m\n",
      "\u001b[1;32m~\\anaconda3\\lib\\site-packages\\sklearn\\metrics\\_regression.py\u001b[0m in \u001b[0;36mmean_absolute_error\u001b[1;34m(y_true, y_pred, sample_weight, multioutput)\u001b[0m\n\u001b[0;32m    189\u001b[0m     \u001b[1;36m0.85\u001b[0m\u001b[1;33m...\u001b[0m\u001b[1;33m\u001b[0m\u001b[1;33m\u001b[0m\u001b[0m\n\u001b[0;32m    190\u001b[0m     \"\"\"\n\u001b[1;32m--> 191\u001b[1;33m     y_type, y_true, y_pred, multioutput = _check_reg_targets(\n\u001b[0m\u001b[0;32m    192\u001b[0m         \u001b[0my_true\u001b[0m\u001b[1;33m,\u001b[0m \u001b[0my_pred\u001b[0m\u001b[1;33m,\u001b[0m \u001b[0mmultioutput\u001b[0m\u001b[1;33m\u001b[0m\u001b[1;33m\u001b[0m\u001b[0m\n\u001b[0;32m    193\u001b[0m     )\n",
      "\u001b[1;32m~\\anaconda3\\lib\\site-packages\\sklearn\\metrics\\_regression.py\u001b[0m in \u001b[0;36m_check_reg_targets\u001b[1;34m(y_true, y_pred, multioutput, dtype)\u001b[0m\n\u001b[0;32m     94\u001b[0m     \u001b[0mcheck_consistent_length\u001b[0m\u001b[1;33m(\u001b[0m\u001b[0my_true\u001b[0m\u001b[1;33m,\u001b[0m \u001b[0my_pred\u001b[0m\u001b[1;33m)\u001b[0m\u001b[1;33m\u001b[0m\u001b[1;33m\u001b[0m\u001b[0m\n\u001b[0;32m     95\u001b[0m     \u001b[0my_true\u001b[0m \u001b[1;33m=\u001b[0m \u001b[0mcheck_array\u001b[0m\u001b[1;33m(\u001b[0m\u001b[0my_true\u001b[0m\u001b[1;33m,\u001b[0m \u001b[0mensure_2d\u001b[0m\u001b[1;33m=\u001b[0m\u001b[1;32mFalse\u001b[0m\u001b[1;33m,\u001b[0m \u001b[0mdtype\u001b[0m\u001b[1;33m=\u001b[0m\u001b[0mdtype\u001b[0m\u001b[1;33m)\u001b[0m\u001b[1;33m\u001b[0m\u001b[1;33m\u001b[0m\u001b[0m\n\u001b[1;32m---> 96\u001b[1;33m     \u001b[0my_pred\u001b[0m \u001b[1;33m=\u001b[0m \u001b[0mcheck_array\u001b[0m\u001b[1;33m(\u001b[0m\u001b[0my_pred\u001b[0m\u001b[1;33m,\u001b[0m \u001b[0mensure_2d\u001b[0m\u001b[1;33m=\u001b[0m\u001b[1;32mFalse\u001b[0m\u001b[1;33m,\u001b[0m \u001b[0mdtype\u001b[0m\u001b[1;33m=\u001b[0m\u001b[0mdtype\u001b[0m\u001b[1;33m)\u001b[0m\u001b[1;33m\u001b[0m\u001b[1;33m\u001b[0m\u001b[0m\n\u001b[0m\u001b[0;32m     97\u001b[0m \u001b[1;33m\u001b[0m\u001b[0m\n\u001b[0;32m     98\u001b[0m     \u001b[1;32mif\u001b[0m \u001b[0my_true\u001b[0m\u001b[1;33m.\u001b[0m\u001b[0mndim\u001b[0m \u001b[1;33m==\u001b[0m \u001b[1;36m1\u001b[0m\u001b[1;33m:\u001b[0m\u001b[1;33m\u001b[0m\u001b[1;33m\u001b[0m\u001b[0m\n",
      "\u001b[1;32m~\\anaconda3\\lib\\site-packages\\sklearn\\utils\\validation.py\u001b[0m in \u001b[0;36mcheck_array\u001b[1;34m(array, accept_sparse, accept_large_sparse, dtype, order, copy, force_all_finite, ensure_2d, allow_nd, ensure_min_samples, ensure_min_features, estimator)\u001b[0m\n\u001b[0;32m    798\u001b[0m \u001b[1;33m\u001b[0m\u001b[0m\n\u001b[0;32m    799\u001b[0m         \u001b[1;32mif\u001b[0m \u001b[0mforce_all_finite\u001b[0m\u001b[1;33m:\u001b[0m\u001b[1;33m\u001b[0m\u001b[1;33m\u001b[0m\u001b[0m\n\u001b[1;32m--> 800\u001b[1;33m             \u001b[0m_assert_all_finite\u001b[0m\u001b[1;33m(\u001b[0m\u001b[0marray\u001b[0m\u001b[1;33m,\u001b[0m \u001b[0mallow_nan\u001b[0m\u001b[1;33m=\u001b[0m\u001b[0mforce_all_finite\u001b[0m \u001b[1;33m==\u001b[0m \u001b[1;34m\"allow-nan\"\u001b[0m\u001b[1;33m)\u001b[0m\u001b[1;33m\u001b[0m\u001b[1;33m\u001b[0m\u001b[0m\n\u001b[0m\u001b[0;32m    801\u001b[0m \u001b[1;33m\u001b[0m\u001b[0m\n\u001b[0;32m    802\u001b[0m     \u001b[1;32mif\u001b[0m \u001b[0mensure_min_samples\u001b[0m \u001b[1;33m>\u001b[0m \u001b[1;36m0\u001b[0m\u001b[1;33m:\u001b[0m\u001b[1;33m\u001b[0m\u001b[1;33m\u001b[0m\u001b[0m\n",
      "\u001b[1;32m~\\anaconda3\\lib\\site-packages\\sklearn\\utils\\validation.py\u001b[0m in \u001b[0;36m_assert_all_finite\u001b[1;34m(X, allow_nan, msg_dtype)\u001b[0m\n\u001b[0;32m    112\u001b[0m         ):\n\u001b[0;32m    113\u001b[0m             \u001b[0mtype_err\u001b[0m \u001b[1;33m=\u001b[0m \u001b[1;34m\"infinity\"\u001b[0m \u001b[1;32mif\u001b[0m \u001b[0mallow_nan\u001b[0m \u001b[1;32melse\u001b[0m \u001b[1;34m\"NaN, infinity\"\u001b[0m\u001b[1;33m\u001b[0m\u001b[1;33m\u001b[0m\u001b[0m\n\u001b[1;32m--> 114\u001b[1;33m             raise ValueError(\n\u001b[0m\u001b[0;32m    115\u001b[0m                 msg_err.format(\n\u001b[0;32m    116\u001b[0m                     \u001b[0mtype_err\u001b[0m\u001b[1;33m,\u001b[0m \u001b[0mmsg_dtype\u001b[0m \u001b[1;32mif\u001b[0m \u001b[0mmsg_dtype\u001b[0m \u001b[1;32mis\u001b[0m \u001b[1;32mnot\u001b[0m \u001b[1;32mNone\u001b[0m \u001b[1;32melse\u001b[0m \u001b[0mX\u001b[0m\u001b[1;33m.\u001b[0m\u001b[0mdtype\u001b[0m\u001b[1;33m\u001b[0m\u001b[1;33m\u001b[0m\u001b[0m\n",
      "\u001b[1;31mValueError\u001b[0m: Input contains NaN, infinity or a value too large for dtype('float64')."
     ]
    }
   ],
   "source": [
    "# Calculate 7-day moving average \n",
    "\n",
    "data['7-Day MA'] = data['Close'].rolling(window=7).mean()\n",
    "\n",
    "\n",
    "# MAPE\n",
    "\n",
    "def mean_absolute_percentage_error(y_true, y_pred):\n",
    "    return np.mean(np.abs((y_true - y_pred)/y_true))*100\n",
    "\n",
    "mapes = []\n",
    "for i in range(len(data)):\n",
    "    mapes.append(mean_absolute_percentage_error(data[\"Close\"][:i+1], data['7-Day MA'][:i+1]))\n",
    "\n",
    "# MAE\n",
    "from sklearn.metrics import mean_absolute_error\n",
    "\n",
    "mae = mean_absolute_error(data[\"Close\"], data['7-Day MA'])\n",
    "\n",
    "print(\"Mean Absolute Percentage Error (MAPE): \", sum(mapes)/len(mapes))\n",
    "print(\"Mean Absolute Error: \", mae)"
   ]
  },
  {
   "cell_type": "markdown",
   "id": "d46e806b",
   "metadata": {},
   "source": [
    "To avoid/ deal with the error, the presence of NaN values is checked and replaced with mean of data. "
   ]
  },
  {
   "cell_type": "code",
   "execution_count": 18,
   "id": "c51de445",
   "metadata": {},
   "outputs": [
    {
     "name": "stdout",
     "output_type": "stream",
     "text": [
      "6\n"
     ]
    }
   ],
   "source": [
    "data['7-Day MA'] = data['Close'].rolling(window=7).mean()\n",
    "\n",
    "#check for NaN values in the moverng average data\n",
    "print(data['7-Day MA'].isnull().sum())\n"
   ]
  },
  {
   "cell_type": "code",
   "execution_count": 19,
   "id": "525afc5b",
   "metadata": {},
   "outputs": [],
   "source": [
    "#replace NaN values with mean\n",
    "data['7-Day MA'] = data['7-Day MA'].fillna(data['7-Day MA'].mean())"
   ]
  },
  {
   "cell_type": "code",
   "execution_count": 20,
   "id": "2e8915d2",
   "metadata": {},
   "outputs": [
    {
     "name": "stdout",
     "output_type": "stream",
     "text": [
      "0\n"
     ]
    }
   ],
   "source": [
    "#check for NaN values in the closing price data\n",
    "print(data['Close'].isnull().sum())"
   ]
  },
  {
   "cell_type": "markdown",
   "id": "e8ee90e2",
   "metadata": {},
   "source": [
    "The presence of infinity values is also checked"
   ]
  },
  {
   "cell_type": "code",
   "execution_count": 21,
   "id": "927e15c4",
   "metadata": {
    "scrolled": false
   },
   "outputs": [
    {
     "name": "stdout",
     "output_type": "stream",
     "text": [
      "0\n"
     ]
    }
   ],
   "source": [
    "#check for and handle infinity values in the moverng average data\n",
    "print(np.isinf(data['7-Day MA']).sum())"
   ]
  },
  {
   "cell_type": "code",
   "execution_count": 22,
   "id": "b405c344",
   "metadata": {
    "scrolled": true
   },
   "outputs": [
    {
     "name": "stdout",
     "output_type": "stream",
     "text": [
      "0\n"
     ]
    }
   ],
   "source": [
    "#check for and handle infinity values in the closing price data\n",
    "print(np.isinf(data['Close']).sum())"
   ]
  },
  {
   "cell_type": "markdown",
   "id": "b1b7bd18",
   "metadata": {},
   "source": [
    "The MAPE and MAE is then calculated"
   ]
  },
  {
   "cell_type": "code",
   "execution_count": 23,
   "id": "c02b10ed",
   "metadata": {},
   "outputs": [
    {
     "name": "stdout",
     "output_type": "stream",
     "text": [
      "Mean Absolute Percentage Error (MAPE):  1.7459576571339992\n",
      "Mean Absolute Error:  0.6794928356827612\n"
     ]
    }
   ],
   "source": [
    "# MAPE\n",
    "\n",
    "def mean_absolute_percentage_error(y_true, y_pred):\n",
    "    return np.mean(np.abs((y_true - y_pred)/y_true))*100\n",
    "\n",
    "mapes = []\n",
    "for i in range(len(data)):\n",
    "    mapes.append(mean_absolute_percentage_error(data[\"Close\"][:i+1], data['7-Day MA'][:i+1]))\n",
    "\n",
    "# MAE\n",
    "from sklearn.metrics import mean_absolute_error\n",
    "\n",
    "mae = mean_absolute_error(data[\"Close\"], data['7-Day MA'])\n",
    "\n",
    "print(\"Mean Absolute Percentage Error (MAPE): \", sum(mapes)/len(mapes))\n",
    "print(\"Mean Absolute Error: \", mae)"
   ]
  },
  {
   "cell_type": "markdown",
   "id": "ef2921b9",
   "metadata": {},
   "source": [
    "The small MAPE indicates a small persentage error in prediction likewise the low MAE indicates  a small absolute error in the predictions.\n",
    "\n",
    "These metrics suggest that the diversified stocks strategy (since the moving average is used as a proxy for the predicted stock prices) perform well. The relatively small MAPE and MAE indicate that the predictions were close to actual stock prices."
   ]
  },
  {
   "cell_type": "code",
   "execution_count": null,
   "id": "a45b92e3",
   "metadata": {},
   "outputs": [],
   "source": []
  }
 ],
 "metadata": {
  "kernelspec": {
   "display_name": "Python 3 (ipykernel)",
   "language": "python",
   "name": "python3"
  },
  "language_info": {
   "codemirror_mode": {
    "name": "ipython",
    "version": 3
   },
   "file_extension": ".py",
   "mimetype": "text/x-python",
   "name": "python",
   "nbconvert_exporter": "python",
   "pygments_lexer": "ipython3",
   "version": "3.9.13"
  }
 },
 "nbformat": 4,
 "nbformat_minor": 5
}
